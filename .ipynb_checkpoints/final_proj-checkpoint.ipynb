{
 "cells": [
  {
   "cell_type": "code",
   "execution_count": null,
   "metadata": {
    "vscode": {
     "languageId": "plaintext"
    }
   },
   "outputs": [],
   "source": [
    "import numpy as np\n",
    "import pandas as pd\n",
    "import matplotlib.pyplot as plt\n",
    "from sklearn.model_selection import train_test_split\n",
    "from sklearn.ensemble import RandomForestClassifier\n",
    "from sklearn.metrics import classification_report, accuracy_score\n",
    "from sklearn.preprocessing import LabelEncoder, StandardScaler\n",
    "from sklearn.metrics import confusion_matrix\n",
    "from sklearn.cluster import KMeans\n",
    "\n",
    "import kaggle\n"
   ]
  },
  {
   "cell_type": "code",
   "execution_count": null,
   "metadata": {},
   "outputs": [],
   "source": [
    "data = pd.read_csv(\"data/Arrests_Presented_and_Prosecutions.csv\")\n",
    "data.head()"
   ]
  },
  {
   "cell_type": "code",
   "execution_count": null,
   "metadata": {},
   "outputs": [],
   "source": [
    "data['Suspect Charge List'] = data['Suspect Charge List'].apply(lambda x: x.strip(',').split(','))\n",
    "data = data.dropna()\n",
    "data.head()"
   ]
  },
  {
   "cell_type": "code",
   "execution_count": null,
   "metadata": {},
   "outputs": [],
   "source": [
    "#This is for the case of removing the suspect charge list and training using other metrics\n",
    "\n",
    "# Select the necessary columns\n",
    "data_no_charge = data[['Case Filed', 'Case Type', 'Arrest Date', 'Status']].copy()\n",
    "\n",
    "# Convert 'Arrest Date' to datetime\n",
    "data_no_charge['Arrest Date'] = pd.to_datetime(data_no_charge['Arrest Date'])\n",
    "\n",
    "# Define a reference date\n",
    "reference_date = pd.to_datetime(\"2010-12-01\")\n",
    "\n",
    "# Subtract the reference date to calculate days\n",
    "data_no_charge['Arrest Date'] = (data_no_charge['Arrest Date'] - reference_date).dt.days\n",
    "\n",
    "# Encode categorical variables\n",
    "label_encoder = LabelEncoder()\n",
    "data_no_charge['Case Filed'] = label_encoder.fit_transform(data_no_charge['Case Filed'])\n",
    "data_no_charge['Case Type'] = label_encoder.fit_transform(data_no_charge['Case Type'])\n",
    "\n",
    "data_no_charge.head()"
   ]
  },
  {
   "cell_type": "code",
   "execution_count": null,
   "metadata": {},
   "outputs": [],
   "source": [
    "#setting training and test data\n",
    "x_vals = data_no_charge.drop(columns=['Status'])\n",
    "y_vals = data['Status']\n",
    "x_train, x_test, y_train, y_test = train_test_split(x_vals, y_vals, test_size=0.2, random_state=21)"
   ]
  },
  {
   "cell_type": "code",
   "execution_count": null,
   "metadata": {},
   "outputs": [],
   "source": [
    "#Here is the model for random forest\n",
    "model = RandomForestClassifier(n_estimators=20, random_state=21)\n",
    "model.fit(x_train, y_train)\n",
    "\n",
    "y_pred = model.predict(x_test)\n",
    "\n",
    "accuracy = accuracy_score(y_test, y_pred)\n",
    "#This function is super helpful - look for similar ones for other classification models\n",
    "report = classification_report(y_test, y_pred, target_names=['Other Action', 'Discharge Only', 'Filed'])\n",
    "\n",
    "print(\"Accuracy:\", accuracy)\n",
    "print(\"\\nClassification Report:\\n\", report)"
   ]
  },
  {
   "cell_type": "code",
   "execution_count": null,
   "metadata": {},
   "outputs": [],
   "source": [
    "# Creation of the heatmap showing the distribution of predictions\n",
    "cm = confusion_matrix(y_test, y_pred)\n",
    "class_names = ['Other Action', 'Discharge Only', 'Filed']\n",
    "\n",
    "fig, ax = plt.subplots(figsize=(8, 6))\n",
    "im = ax.imshow(cm, cmap='Blues')\n",
    "\n",
    "ax.set_xticks(range(len(class_names)))\n",
    "ax.set_yticks(range(len(class_names)))\n",
    "ax.set_xticklabels(class_names)\n",
    "ax.set_yticklabels(class_names)\n",
    "\n",
    "plt.setp(ax.get_xticklabels(), rotation=45, ha=\"right\", rotation_mode=\"anchor\")\n",
    "\n",
    "for i in range(len(class_names)):\n",
    "    for j in range(len(class_names)):\n",
    "        text = ax.text(j, i, cm[i, j],\n",
    "                       ha=\"center\", va=\"center\", color=\"black\")\n",
    "\n",
    "ax.set_title(\"Confusion Matrix\")\n",
    "ax.set_xlabel(\"Predicted\")\n",
    "ax.set_ylabel(\"Actual\")\n",
    "\n",
    "# Add a colorbar for reference\n",
    "fig.colorbar(im, ax=ax)\n",
    "\n",
    "plt.tight_layout()\n",
    "plt.show()"
   ]
  },
  {
   "cell_type": "code",
   "execution_count": null,
   "metadata": {},
   "outputs": [],
   "source": [
    "#This is the example with one hote encoded the Suspect Charge List\n",
    "\n",
    "\n",
    "data_with_charge = data[['ID', 'Case Filed', 'Case Type', 'Arrest Date', 'Status', 'Suspect Charge List']].copy()\n",
    "\n",
    "# Convert 'Arrest Date' to datetime\n",
    "data_with_charge['Arrest Date'] = pd.to_datetime(data_with_charge['Arrest Date'])\n",
    "\n",
    "# Define a reference date\n",
    "reference_date = pd.to_datetime(\"2010-12-01\")\n",
    "\n",
    "# Subtract the reference date to calculate days\n",
    "data_with_charge['Arrest Date'] = (data_with_charge['Arrest Date'] - reference_date).dt.days\n",
    "\n",
    "# Encode categorical variables\n",
    "label_encoder = LabelEncoder()\n",
    "data_with_charge['Case Filed'] = label_encoder.fit_transform(data_with_charge['Case Filed'])\n",
    "data_with_charge['Case Type'] = label_encoder.fit_transform(data_with_charge['Case Type'])\n",
    "\n",
    "data_with_charge.head()"
   ]
  },
  {
   "cell_type": "code",
   "execution_count": null,
   "metadata": {},
   "outputs": [],
   "source": [
    "charges = set(charge for sublist in data[\"Suspect Charge List\"] for charge in sublist)\n",
    "\n",
    "encoded_data = pd.DataFrame(\n",
    "    {charge: data[\"Suspect Charge List\"].apply(lambda x: 1 if charge in x else 0) for charge in charges}\n",
    ")\n",
    "\n",
    "data_with_charge = pd.concat([data_with_charge.drop(columns=[\"Suspect Charge List\"]), encoded_data], axis=1)\n",
    "data_with_charge.head()"
   ]
  },
  {
   "cell_type": "code",
   "execution_count": null,
   "metadata": {},
   "outputs": [],
   "source": [
    "x_vals = data_with_charge.drop(columns=['ID', 'Status'])\n",
    "y_vals = data_with_charge['Status']\n",
    "x_train, x_test, y_train, y_test = train_test_split(x_vals, y_vals, test_size=0.2, random_state=21)"
   ]
  },
  {
   "cell_type": "code",
   "execution_count": null,
   "metadata": {},
   "outputs": [],
   "source": [
    "model = RandomForestClassifier(n_estimators=20, random_state=21)\n",
    "model.fit(x_train, y_train)\n",
    "\n",
    "y_pred = model.predict(x_test)\n",
    "\n",
    "accuracy = accuracy_score(y_test, y_pred)\n",
    "#This function is super helpful - look for similar ones for other classification models\n",
    "report = classification_report(y_test, y_pred, target_names=['Other Action', 'Discharge Only', 'Filed'])\n",
    "\n",
    "print(\"Accuracy:\", accuracy)\n",
    "print(\"\\nClassification Report:\\n\", report)"
   ]
  },
  {
   "cell_type": "code",
   "execution_count": null,
   "metadata": {},
   "outputs": [],
   "source": [
    "# Creation of the heatmap showing the distribution of predictions\n",
    "cm = confusion_matrix(y_test, y_pred)\n",
    "class_names = ['Other Action', 'Discharge Only', 'Filed']\n",
    "\n",
    "fig, ax = plt.subplots(figsize=(8, 6))\n",
    "im = ax.imshow(cm, cmap='Blues')\n",
    "\n",
    "ax.set_xticks(range(len(class_names)))\n",
    "ax.set_yticks(range(len(class_names)))\n",
    "ax.set_xticklabels(class_names)\n",
    "ax.set_yticklabels(class_names)\n",
    "\n",
    "plt.setp(ax.get_xticklabels(), rotation=45, ha=\"right\", rotation_mode=\"anchor\")\n",
    "\n",
    "for i in range(len(class_names)):\n",
    "    for j in range(len(class_names)):\n",
    "        text = ax.text(j, i, cm[i, j],\n",
    "                       ha=\"center\", va=\"center\", color=\"black\")\n",
    "\n",
    "ax.set_title(\"Confusion Matrix\")\n",
    "ax.set_xlabel(\"Predicted\")\n",
    "ax.set_ylabel(\"Actual\")\n",
    "\n",
    "# Add a colorbar for reference\n",
    "fig.colorbar(im, ax=ax)\n",
    "\n",
    "plt.tight_layout()\n",
    "plt.show()"
   ]
  },
  {
   "cell_type": "code",
   "execution_count": null,
   "metadata": {},
   "outputs": [],
   "source": [
    "# This is the example where k means clustering is used to cluster groups of charge lists\n",
    "\n",
    "#Exploding the data to have new entries for every charge\n",
    "expanded_with_charge_list = data.explode(\"Suspect Charge List\").rename(columns={\"Suspect Charge List\": \"Charge\"})\n",
    "expanded_with_charge_list.head()"
   ]
  },
  {
   "cell_type": "code",
   "execution_count": null,
   "metadata": {},
   "outputs": [],
   "source": [
    "# Elbow Method\n",
    "cluster_range = range(1, 10)  # Limit k to the number of samples\n",
    "inertia = []\n",
    "\n",
    "for k in cluster_range:\n",
    "    kmeans = KMeans(n_clusters=k, random_state=42, n_init=10)  # Set n_init explicitly\n",
    "    kmeans.fit(features_scaled)\n",
    "    inertia.append(kmeans.inertia_)\n",
    "\n",
    "# Plot the Elbow Curve\n",
    "plt.figure(figsize=(10, 5))\n",
    "plt.plot(cluster_range, inertia, marker=\"o\")\n",
    "plt.title(\"Elbow Method for Best Number of Clusters\")\n",
    "plt.xlabel(\"Clusters (k)\")\n",
    "plt.ylabel(\"Inertia\")\n",
    "plt.show()"
   ]
  },
  {
   "cell_type": "code",
   "execution_count": null,
   "metadata": {},
   "outputs": [],
   "source": [
    "#Encode variables\n",
    "label_encoders = {}\n",
    "for col in [\"Case Filed\", \"Case Type\"]:\n",
    "    label_encoders[col] = LabelEncoder()\n",
    "    expanded_with_charge_list[col] = label_encoders[col].fit_transform(expanded_with_charge_list[col])\n",
    "\n",
    "# Convert dates\n",
    "expanded_with_charge_list[\"Arrest Date\"] = pd.to_datetime(expanded_with_charge_list[\"Arrest Date\"]).map(pd.Timestamp.toordinal)\n",
    "\n",
    "features = expanded_with_charge_list[[\"Arrest Date\", \"Case Filed\", \"Case Type\"]]\n",
    "scaler = StandardScaler()\n",
    "features_scaled = scaler.fit_transform(features)\n",
    "\n",
    "kmeans = KMeans(n_clusters=3, random_state=42)\n",
    "expanded_with_charge_list[\"Cluster\"] = kmeans.fit_predict(features_scaled)\n",
    "\n",
    "expanded_with_charge_list.head()"
   ]
  },
  {
   "cell_type": "code",
   "execution_count": null,
   "metadata": {},
   "outputs": [],
   "source": [
    "# Show the charges in each cluster\n",
    "charge_groups = expanded_with_charge_list.groupby(\"Cluster\")[\"Charge\"].apply(list)\n",
    "\n",
    "for cluster, charges in charge_groups.items():\n",
    "    print(f\"Cluster {cluster}:\")\n",
    "    print(\", \".join(charges))\n",
    "    print(\"\\n\")"
   ]
  },
  {
   "cell_type": "code",
   "execution_count": null,
   "metadata": {},
   "outputs": [],
   "source": [
    "#Use random forest on each individual cluster\n",
    "\n",
    "expanded_with_charge_list[\"Status\"] = LabelEncoder().fit_transform(expanded_with_charge_list[\"Status\"])\n",
    "\n",
    "# Split the data by clusters\n",
    "results = {}\n",
    "for cluster in expanded_with_charge_list[\"Cluster\"].unique():\n",
    "    cluster_data = expanded_with_charge_list[expanded_with_charge_list[\"Cluster\"] == cluster]\n",
    "\n",
    "    X = cluster_data[[\"Arrest Date\", \"Case Filed\", \"Case Type\"]]\n",
    "    y = cluster_data[\"Status\"]\n",
    "\n",
    "    X_train, X_test, y_train, y_test = train_test_split(X, y, test_size=0.2, random_state=42)\n",
    "\n",
    "    model = RandomForestClassifier(random_state=42)\n",
    "    model.fit(X_train, y_train)\n",
    "\n",
    "    y_pred = model.predict(X_test)\n",
    "\n",
    "    accuracy = accuracy_score(y_test, y_pred)\n",
    "    report = classification_report(y_test, y_pred, target_names=[\"Other Action\", \"Discharge Only\", \"Filed\"], zero_division=0)\n",
    "    \n",
    "    # Keep results for each cluster\n",
    "    results[cluster] = {\"accuracy\": accuracy, \"report\": report}\n",
    "\n",
    "# Print results\n",
    "for cluster, metrics in results.items():\n",
    "    print(f\"Cluster {cluster}:\")\n",
    "    if isinstance(metrics, str):\n",
    "        print(metrics)\n",
    "    else:\n",
    "        print(f\"Accuracy: {metrics['accuracy']:.2f}\")\n",
    "        print(\"Classification Report:\")\n",
    "        print(metrics[\"report\"])\n",
    "    print(\"\\n\")"
   ]
  },
  {
   "cell_type": "code",
   "execution_count": null,
   "metadata": {},
   "outputs": [],
   "source": []
  }
 ],
 "metadata": {
  "kernelspec": {
   "display_name": "Python 3 (ipykernel)",
   "language": "python",
   "name": "python3"
  },
  "language_info": {
   "codemirror_mode": {
    "name": "ipython",
    "version": 3
   },
   "file_extension": ".py",
   "mimetype": "text/x-python",
   "name": "python",
   "nbconvert_exporter": "python",
   "pygments_lexer": "ipython3",
   "version": "3.11.5"
  }
 },
 "nbformat": 4,
 "nbformat_minor": 4
}
